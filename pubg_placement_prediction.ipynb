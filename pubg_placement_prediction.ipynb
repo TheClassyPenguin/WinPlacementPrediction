{
 "cells": [
  {
   "cell_type": "code",
   "execution_count": 1,
   "metadata": {
    "_cell_guid": "b1076dfc-b9ad-4769-8c92-a6c4dae69d19",
    "_uuid": "8f2839f25d086af736a60e9eeb907d3b93b6e0e5"
   },
   "outputs": [
    {
     "name": "stdout",
     "output_type": "stream",
     "text": [
      "['.ipynb_checkpoints', 'PUBG_Finish_Placement_Prediction', 'PUBG_Player_Statistics']\n"
     ]
    }
   ],
   "source": [
    "# This Python 3 environment comes with many helpful analytics libraries installed\n",
    "# It is defined by the kaggle/python docker image: https://github.com/kaggle/docker-python\n",
    "# For example, here's several helpful packages to load in \n",
    "\n",
    "import numpy as np # linear algebra\n",
    "import pandas as pd # data processing, CSV file I/O (e.g. pd.read_csv)\n",
    "import xgboost as xgboost\n",
    "import matplotlib.pyplot as plt\n",
    "from sklearn.model_selection import train_test_split\n",
    "from sklearn.metrics import explained_variance_score\n",
    "from sklearn.metrics import mean_squared_error\n",
    "# Input data files are available in the \"../input/\" directory.\n",
    "# For example, running this (by clicking run or pressing Shift+Enter) will list the files in the input directory\n",
    "\n",
    "import os\n",
    "print(os.listdir(\"./Data\"))\n",
    "\n",
    "# Any results you write to the current directory are saved as output."
   ]
  },
  {
   "cell_type": "code",
   "execution_count": 2,
   "metadata": {
    "_cell_guid": "79c7e3d0-c299-4dcb-8224-4455121ee9b0",
    "_uuid": "d629ff2d2480ee46fbb7e2d37f6b5fab8052498a",
    "scrolled": true
   },
   "outputs": [
    {
     "data": {
      "text/html": [
       "<div>\n",
       "<style scoped>\n",
       "    .dataframe tbody tr th:only-of-type {\n",
       "        vertical-align: middle;\n",
       "    }\n",
       "\n",
       "    .dataframe tbody tr th {\n",
       "        vertical-align: top;\n",
       "    }\n",
       "\n",
       "    .dataframe thead th {\n",
       "        text-align: right;\n",
       "    }\n",
       "</style>\n",
       "<table border=\"1\" class=\"dataframe\">\n",
       "  <thead>\n",
       "    <tr style=\"text-align: right;\">\n",
       "      <th></th>\n",
       "      <th>Id</th>\n",
       "      <th>groupId</th>\n",
       "      <th>matchId</th>\n",
       "      <th>assists</th>\n",
       "      <th>boosts</th>\n",
       "      <th>damageDealt</th>\n",
       "      <th>DBNOs</th>\n",
       "      <th>headshotKills</th>\n",
       "      <th>heals</th>\n",
       "      <th>killPlace</th>\n",
       "      <th>...</th>\n",
       "      <th>revives</th>\n",
       "      <th>rideDistance</th>\n",
       "      <th>roadKills</th>\n",
       "      <th>swimDistance</th>\n",
       "      <th>teamKills</th>\n",
       "      <th>vehicleDestroys</th>\n",
       "      <th>walkDistance</th>\n",
       "      <th>weaponsAcquired</th>\n",
       "      <th>winPoints</th>\n",
       "      <th>winPlacePerc</th>\n",
       "    </tr>\n",
       "  </thead>\n",
       "  <tbody>\n",
       "    <tr>\n",
       "      <th>0</th>\n",
       "      <td>0</td>\n",
       "      <td>24</td>\n",
       "      <td>0</td>\n",
       "      <td>0</td>\n",
       "      <td>5</td>\n",
       "      <td>247.30</td>\n",
       "      <td>2</td>\n",
       "      <td>0</td>\n",
       "      <td>4</td>\n",
       "      <td>17</td>\n",
       "      <td>...</td>\n",
       "      <td>1</td>\n",
       "      <td>591.3</td>\n",
       "      <td>0</td>\n",
       "      <td>0.0</td>\n",
       "      <td>0</td>\n",
       "      <td>0</td>\n",
       "      <td>782.40</td>\n",
       "      <td>4</td>\n",
       "      <td>1458</td>\n",
       "      <td>0.8571</td>\n",
       "    </tr>\n",
       "    <tr>\n",
       "      <th>1</th>\n",
       "      <td>1</td>\n",
       "      <td>440875</td>\n",
       "      <td>1</td>\n",
       "      <td>1</td>\n",
       "      <td>0</td>\n",
       "      <td>37.65</td>\n",
       "      <td>1</td>\n",
       "      <td>1</td>\n",
       "      <td>0</td>\n",
       "      <td>45</td>\n",
       "      <td>...</td>\n",
       "      <td>0</td>\n",
       "      <td>0.0</td>\n",
       "      <td>0</td>\n",
       "      <td>0.0</td>\n",
       "      <td>0</td>\n",
       "      <td>0</td>\n",
       "      <td>119.60</td>\n",
       "      <td>3</td>\n",
       "      <td>1511</td>\n",
       "      <td>0.0400</td>\n",
       "    </tr>\n",
       "    <tr>\n",
       "      <th>2</th>\n",
       "      <td>2</td>\n",
       "      <td>878242</td>\n",
       "      <td>2</td>\n",
       "      <td>0</td>\n",
       "      <td>1</td>\n",
       "      <td>93.73</td>\n",
       "      <td>1</td>\n",
       "      <td>0</td>\n",
       "      <td>2</td>\n",
       "      <td>54</td>\n",
       "      <td>...</td>\n",
       "      <td>1</td>\n",
       "      <td>0.0</td>\n",
       "      <td>0</td>\n",
       "      <td>0.0</td>\n",
       "      <td>0</td>\n",
       "      <td>0</td>\n",
       "      <td>3248.00</td>\n",
       "      <td>5</td>\n",
       "      <td>1583</td>\n",
       "      <td>0.7407</td>\n",
       "    </tr>\n",
       "    <tr>\n",
       "      <th>3</th>\n",
       "      <td>3</td>\n",
       "      <td>1319841</td>\n",
       "      <td>3</td>\n",
       "      <td>0</td>\n",
       "      <td>0</td>\n",
       "      <td>95.88</td>\n",
       "      <td>0</td>\n",
       "      <td>0</td>\n",
       "      <td>0</td>\n",
       "      <td>86</td>\n",
       "      <td>...</td>\n",
       "      <td>0</td>\n",
       "      <td>0.0</td>\n",
       "      <td>0</td>\n",
       "      <td>0.0</td>\n",
       "      <td>0</td>\n",
       "      <td>0</td>\n",
       "      <td>21.49</td>\n",
       "      <td>1</td>\n",
       "      <td>1489</td>\n",
       "      <td>0.1146</td>\n",
       "    </tr>\n",
       "    <tr>\n",
       "      <th>4</th>\n",
       "      <td>4</td>\n",
       "      <td>1757883</td>\n",
       "      <td>4</td>\n",
       "      <td>0</td>\n",
       "      <td>1</td>\n",
       "      <td>0.00</td>\n",
       "      <td>0</td>\n",
       "      <td>0</td>\n",
       "      <td>1</td>\n",
       "      <td>58</td>\n",
       "      <td>...</td>\n",
       "      <td>0</td>\n",
       "      <td>0.0</td>\n",
       "      <td>0</td>\n",
       "      <td>0.0</td>\n",
       "      <td>0</td>\n",
       "      <td>0</td>\n",
       "      <td>640.80</td>\n",
       "      <td>4</td>\n",
       "      <td>1475</td>\n",
       "      <td>0.5217</td>\n",
       "    </tr>\n",
       "  </tbody>\n",
       "</table>\n",
       "<p>5 rows × 26 columns</p>\n",
       "</div>"
      ],
      "text/plain": [
       "   Id  groupId  matchId  assists  boosts  damageDealt  DBNOs  headshotKills  \\\n",
       "0   0       24        0        0       5       247.30      2              0   \n",
       "1   1   440875        1        1       0        37.65      1              1   \n",
       "2   2   878242        2        0       1        93.73      1              0   \n",
       "3   3  1319841        3        0       0        95.88      0              0   \n",
       "4   4  1757883        4        0       1         0.00      0              0   \n",
       "\n",
       "   heals  killPlace      ...       revives  rideDistance  roadKills  \\\n",
       "0      4         17      ...             1         591.3          0   \n",
       "1      0         45      ...             0           0.0          0   \n",
       "2      2         54      ...             1           0.0          0   \n",
       "3      0         86      ...             0           0.0          0   \n",
       "4      1         58      ...             0           0.0          0   \n",
       "\n",
       "   swimDistance  teamKills  vehicleDestroys  walkDistance  weaponsAcquired  \\\n",
       "0           0.0          0                0        782.40                4   \n",
       "1           0.0          0                0        119.60                3   \n",
       "2           0.0          0                0       3248.00                5   \n",
       "3           0.0          0                0         21.49                1   \n",
       "4           0.0          0                0        640.80                4   \n",
       "\n",
       "   winPoints  winPlacePerc  \n",
       "0       1458        0.8571  \n",
       "1       1511        0.0400  \n",
       "2       1583        0.7407  \n",
       "3       1489        0.1146  \n",
       "4       1475        0.5217  \n",
       "\n",
       "[5 rows x 26 columns]"
      ]
     },
     "execution_count": 2,
     "metadata": {},
     "output_type": "execute_result"
    }
   ],
   "source": [
    "dataset = pd.read_csv(\"./Data/PUBG_Finish_Placement_Prediction/train.csv\")\n",
    "test_set = pd.read_csv(\"./Data/PUBG_Finish_Placement_Prediction/test.csv\")\n",
    "dataset.head()"
   ]
  },
  {
   "cell_type": "markdown",
   "metadata": {
    "_uuid": "30e51bf9e528888d83e72b68b471c16bedffe6c5"
   },
   "source": [
    "\n",
    "**Group Experience**\n",
    "\n",
    "> *If the same group of players plays in different matches, they will have a different groupId each time.*\n",
    "\n",
    "Possibly interesting concept: Number of matches played within a group and aggregations based of group history.\n",
    "\n",
    "If groupId was kept consistent across matches we can essentially track the group's history and experience playing together.\n",
    "\n",
    "Sadly, it seems like groupIds are only used for a match so cross-match tracking is not possible as is.\n",
    "\n",
    "If the player IDs it might be beneficial to try to generate our own group Id's that actually mean something."
   ]
  },
  {
   "cell_type": "code",
   "execution_count": 3,
   "metadata": {
    "_uuid": "e72064958c66639761c834a892b6b7f53a4c7e19"
   },
   "outputs": [
    {
     "name": "stdout",
     "output_type": "stream",
     "text": [
      "Number of matches in the dataset: 47734\n"
     ]
    },
    {
     "data": {
      "text/plain": [
       "Series([], Name: matchId, dtype: int64)"
      ]
     },
     "execution_count": 3,
     "metadata": {},
     "output_type": "execute_result"
    }
   ],
   "source": [
    "match_amount = len(dataset.matchId.unique())\n",
    "print('Number of matches in the dataset: %d' % match_amount)\n",
    "group = dataset.groupby(\"groupId\")['matchId'].nunique()\n",
    "group[group > 1]"
   ]
  },
  {
   "cell_type": "markdown",
   "metadata": {
    "_uuid": "ebc2f5eb4d23c4b65d53401ff197668ed5f08f12"
   },
   "source": [
    "**Separating game modes**\n",
    "\n",
    "> *The data comes from matches of all types: solos, duos, squads, and custom; there is no guarantee of there being 100 players per match, nor at most 4 player per group.*\n",
    "\n",
    "First things first, we need to fix the game mode problem. In this dataset group sizes vary from 1 to just under 100. \n",
    "\n",
    "These game modes are fundamentally different specially those nearing 100 players as it likely is a 'zombie mode' match."
   ]
  },
  {
   "cell_type": "code",
   "execution_count": 4,
   "metadata": {
    "_uuid": "7ff43a85702d462f6bc729eb950f76e36ed387a7"
   },
   "outputs": [
    {
     "data": {
      "text/plain": [
       "<matplotlib.axes._subplots.AxesSubplot at 0x7ffa625d11d0>"
      ]
     },
     "execution_count": 4,
     "metadata": {},
     "output_type": "execute_result"
    },
    {
     "data": {
      "image/png": "[encoded data removed]",
      "text/plain": [
       "<Figure size 432x288 with 1 Axes>"
      ]
     },
     "metadata": {
      "needs_background": "light"
     },
     "output_type": "display_data"
    }
   ],
   "source": [
    "group_size = dataset.groupby([\"matchId\",\"groupId\"])['Id'].nunique()\n",
    "group_size.plot(kind='hist', logy = True, title='Group size distribution', bins=100)"
   ]
  },
  {
   "cell_type": "markdown",
   "metadata": {
    "_uuid": "2ac89fffd27a561ca7c6a47af4cbcb9b4827ff11"
   },
   "source": [
    "Diferent game modes by squad size:\n",
    "\n",
    "Solo - Only 1 player groups allowed\n",
    "Duo - Only two player groups allowed\n",
    "Squad - Between 2 and 4 player groups\n",
    "Custom - Anything goes. Several different game modes like zombies or 20vs.\n"
   ]
  },
  {
   "cell_type": "code",
   "execution_count": 5,
   "metadata": {
    "_uuid": "800a77c75b4392d844bfde9cf3e2b1066dd4599f"
   },
   "outputs": [
    {
     "name": "stdout",
     "output_type": "stream",
     "text": [
      "Number of matches in the dataset: 47734\n",
      "Number of solo matches in the dataset: 524\n",
      "Percentage of solo matches in the dataset: 1.097750%\n"
     ]
    }
   ],
   "source": [
    "matches = group_size.reset_index().matchId.unique()\n",
    "not_solo_matches = group_size[group_size != 1].reset_index().matchId.unique()\n",
    "solo_matches = np.setdiff1d(matches, not_solo_matches)\n",
    "solo_matches_amount = len(solo_matches)\n",
    "#not_solo_matches = pd.Series(not_solo_matches)\n",
    "print('Number of matches in the dataset: %d' % match_amount)\n",
    "print('Number of solo matches in the dataset: %d' % solo_matches_amount)\n",
    "print('Percentage of solo matches in the dataset: %f%%' % ((solo_matches_amount/match_amount)*100))"
   ]
  },
  {
   "cell_type": "code",
   "execution_count": 6,
   "metadata": {
    "_uuid": "0a195815e62dd957a5870c319dcbad8211ef304a"
   },
   "outputs": [
    {
     "name": "stdout",
     "output_type": "stream",
     "text": [
      "Number of matches in the dataset: 47734\n",
      "Number of duo matches in the dataset: 180\n",
      "Percentage of duo matches in the dataset: 0.377090%\n"
     ]
    }
   ],
   "source": [
    "not_duo_matches = group_size[group_size != 2].reset_index().matchId.unique()\n",
    "duo_matches = np.setdiff1d(matches, not_duo_matches)\n",
    "duo_matches_amount = len(duo_matches)\n",
    "#not_duo_matches = pd.Series(not_duo_matches)\n",
    "print('Number of matches in the dataset: %d' % match_amount)\n",
    "print('Number of duo matches in the dataset: %d' % duo_matches_amount)\n",
    "print('Percentage of duo matches in the dataset: %f%%' % ((duo_matches_amount/match_amount)*100))"
   ]
  },
  {
   "cell_type": "code",
   "execution_count": 7,
   "metadata": {
    "_uuid": "b8781f694507c16463ce7d65ec550710ffd383fe"
   },
   "outputs": [
    {
     "name": "stdout",
     "output_type": "stream",
     "text": [
      "Number of matches in the dataset: 47734\n",
      "Number of squad matches in the dataset: 15737\n",
      "Percentage of squad matches in the dataset: 32.968115%\n"
     ]
    }
   ],
   "source": [
    "not_squad_matches = group_size[group_size >= 5].reset_index().matchId.unique()\n",
    "squad_matches = np.setdiff1d(np.setdiff1d(np.setdiff1d(matches, not_squad_matches), duo_matches),solo_matches)\n",
    "squad_matches_amount = len(squad_matches)\n",
    "print('Number of matches in the dataset: %d' % match_amount)\n",
    "print('Number of squad matches in the dataset: %d' % squad_matches_amount)\n",
    "print('Percentage of squad matches in the dataset: %f%%' % ((squad_matches_amount/match_amount)*100))"
   ]
  },
  {
   "cell_type": "code",
   "execution_count": 8,
   "metadata": {
    "_uuid": "9aaf6c07fcc0ebac85c010030b9eedc188b181ea"
   },
   "outputs": [
    {
     "name": "stdout",
     "output_type": "stream",
     "text": [
      "Number of matches in the dataset: 47734\n",
      "Number of custom matches in the dataset: 31293\n",
      "Percentage of custom matches in the dataset: 65.557045%\n"
     ]
    }
   ],
   "source": [
    "custom_matches = np.setdiff1d(np.setdiff1d(np.setdiff1d(matches, squad_matches), duo_matches),solo_matches)\n",
    "#not_squad_matches = np.setdiff1d(groupsize.reset_index().matchID.unique(), custom_matches)\n",
    "custom_matches_amount = len(custom_matches)\n",
    "print('Number of matches in the dataset: %d' % match_amount)\n",
    "print('Number of custom matches in the dataset: %d' % custom_matches_amount)\n",
    "print('Percentage of custom matches in the dataset: %f%%' % ((custom_matches_amount/match_amount)*100))"
   ]
  },
  {
   "cell_type": "code",
   "execution_count": 9,
   "metadata": {
    "_uuid": "ecd03890925e47995d7a3660c4d6dc226d60ecee"
   },
   "outputs": [
    {
     "data": {
      "image/png": "[encoded data removed]",
      "text/plain": [
       "<Figure size 432x288 with 1 Axes>"
      ]
     },
     "metadata": {},
     "output_type": "display_data"
    }
   ],
   "source": [
    "labels = 'Duo', 'Squad', 'Solo' ,'Custom'\n",
    "sizes = [duo_matches_amount, squad_matches_amount, solo_matches_amount, custom_matches_amount]\n",
    "colors = ['gold', 'yellowgreen', 'lightcoral', 'lightskyblue']\n",
    "explode = (0.05, 0.05, 0.05, 0.05)\n",
    "plt.pie(sizes, labels=labels, explode=explode, colors=colors)\n",
    "plt.axis('equal')\n",
    "plt.show()"
   ]
  },
  {
   "cell_type": "markdown",
   "metadata": {
    "_uuid": "5ef84e42ec467c7b08d1ba4ef748f534d3415ca8"
   },
   "source": [
    "**Game Mode as a categorical value**\n",
    "\n",
    "We will now add the game mode to the entry to allow the model to learn the difference among game types. \n",
    "To this end we will encode the mode as a one-hot vector so it plays nicely with XGboost and ANNs. "
   ]
  },
  {
   "cell_type": "code",
   "execution_count": 10,
   "metadata": {
    "_uuid": "be0f649528e1127bea9621bf6fab7656a7e85e16"
   },
   "outputs": [
    {
     "data": {
      "text/html": [
       "<div>\n",
       "<style scoped>\n",
       "    .dataframe tbody tr th:only-of-type {\n",
       "        vertical-align: middle;\n",
       "    }\n",
       "\n",
       "    .dataframe tbody tr th {\n",
       "        vertical-align: top;\n",
       "    }\n",
       "\n",
       "    .dataframe thead th {\n",
       "        text-align: right;\n",
       "    }\n",
       "</style>\n",
       "<table border=\"1\" class=\"dataframe\">\n",
       "  <thead>\n",
       "    <tr style=\"text-align: right;\">\n",
       "      <th></th>\n",
       "      <th>Id</th>\n",
       "      <th>groupId</th>\n",
       "      <th>matchId</th>\n",
       "      <th>assists</th>\n",
       "      <th>boosts</th>\n",
       "      <th>damageDealt</th>\n",
       "      <th>DBNOs</th>\n",
       "      <th>headshotKills</th>\n",
       "      <th>heals</th>\n",
       "      <th>killPlace</th>\n",
       "      <th>...</th>\n",
       "      <th>teamKills</th>\n",
       "      <th>vehicleDestroys</th>\n",
       "      <th>walkDistance</th>\n",
       "      <th>weaponsAcquired</th>\n",
       "      <th>winPoints</th>\n",
       "      <th>winPlacePerc</th>\n",
       "      <th>solo</th>\n",
       "      <th>duo</th>\n",
       "      <th>squad</th>\n",
       "      <th>custom</th>\n",
       "    </tr>\n",
       "  </thead>\n",
       "  <tbody>\n",
       "    <tr>\n",
       "      <th>0</th>\n",
       "      <td>0</td>\n",
       "      <td>24</td>\n",
       "      <td>0</td>\n",
       "      <td>0</td>\n",
       "      <td>5</td>\n",
       "      <td>247.30</td>\n",
       "      <td>2</td>\n",
       "      <td>0</td>\n",
       "      <td>4</td>\n",
       "      <td>17</td>\n",
       "      <td>...</td>\n",
       "      <td>0</td>\n",
       "      <td>0</td>\n",
       "      <td>782.40</td>\n",
       "      <td>4</td>\n",
       "      <td>1458</td>\n",
       "      <td>0.8571</td>\n",
       "      <td>0</td>\n",
       "      <td>0</td>\n",
       "      <td>0</td>\n",
       "      <td>1</td>\n",
       "    </tr>\n",
       "    <tr>\n",
       "      <th>1</th>\n",
       "      <td>1</td>\n",
       "      <td>440875</td>\n",
       "      <td>1</td>\n",
       "      <td>1</td>\n",
       "      <td>0</td>\n",
       "      <td>37.65</td>\n",
       "      <td>1</td>\n",
       "      <td>1</td>\n",
       "      <td>0</td>\n",
       "      <td>45</td>\n",
       "      <td>...</td>\n",
       "      <td>0</td>\n",
       "      <td>0</td>\n",
       "      <td>119.60</td>\n",
       "      <td>3</td>\n",
       "      <td>1511</td>\n",
       "      <td>0.0400</td>\n",
       "      <td>0</td>\n",
       "      <td>0</td>\n",
       "      <td>0</td>\n",
       "      <td>1</td>\n",
       "    </tr>\n",
       "    <tr>\n",
       "      <th>2</th>\n",
       "      <td>2</td>\n",
       "      <td>878242</td>\n",
       "      <td>2</td>\n",
       "      <td>0</td>\n",
       "      <td>1</td>\n",
       "      <td>93.73</td>\n",
       "      <td>1</td>\n",
       "      <td>0</td>\n",
       "      <td>2</td>\n",
       "      <td>54</td>\n",
       "      <td>...</td>\n",
       "      <td>0</td>\n",
       "      <td>0</td>\n",
       "      <td>3248.00</td>\n",
       "      <td>5</td>\n",
       "      <td>1583</td>\n",
       "      <td>0.7407</td>\n",
       "      <td>0</td>\n",
       "      <td>0</td>\n",
       "      <td>0</td>\n",
       "      <td>1</td>\n",
       "    </tr>\n",
       "    <tr>\n",
       "      <th>3</th>\n",
       "      <td>3</td>\n",
       "      <td>1319841</td>\n",
       "      <td>3</td>\n",
       "      <td>0</td>\n",
       "      <td>0</td>\n",
       "      <td>95.88</td>\n",
       "      <td>0</td>\n",
       "      <td>0</td>\n",
       "      <td>0</td>\n",
       "      <td>86</td>\n",
       "      <td>...</td>\n",
       "      <td>0</td>\n",
       "      <td>0</td>\n",
       "      <td>21.49</td>\n",
       "      <td>1</td>\n",
       "      <td>1489</td>\n",
       "      <td>0.1146</td>\n",
       "      <td>0</td>\n",
       "      <td>0</td>\n",
       "      <td>1</td>\n",
       "      <td>0</td>\n",
       "    </tr>\n",
       "    <tr>\n",
       "      <th>4</th>\n",
       "      <td>4</td>\n",
       "      <td>1757883</td>\n",
       "      <td>4</td>\n",
       "      <td>0</td>\n",
       "      <td>1</td>\n",
       "      <td>0.00</td>\n",
       "      <td>0</td>\n",
       "      <td>0</td>\n",
       "      <td>1</td>\n",
       "      <td>58</td>\n",
       "      <td>...</td>\n",
       "      <td>0</td>\n",
       "      <td>0</td>\n",
       "      <td>640.80</td>\n",
       "      <td>4</td>\n",
       "      <td>1475</td>\n",
       "      <td>0.5217</td>\n",
       "      <td>0</td>\n",
       "      <td>0</td>\n",
       "      <td>0</td>\n",
       "      <td>1</td>\n",
       "    </tr>\n",
       "  </tbody>\n",
       "</table>\n",
       "<p>5 rows × 30 columns</p>\n",
       "</div>"
      ],
      "text/plain": [
       "   Id  groupId  matchId  assists  boosts  damageDealt  DBNOs  headshotKills  \\\n",
       "0   0       24        0        0       5       247.30      2              0   \n",
       "1   1   440875        1        1       0        37.65      1              1   \n",
       "2   2   878242        2        0       1        93.73      1              0   \n",
       "3   3  1319841        3        0       0        95.88      0              0   \n",
       "4   4  1757883        4        0       1         0.00      0              0   \n",
       "\n",
       "   heals  killPlace   ...    teamKills  vehicleDestroys  walkDistance  \\\n",
       "0      4         17   ...            0                0        782.40   \n",
       "1      0         45   ...            0                0        119.60   \n",
       "2      2         54   ...            0                0       3248.00   \n",
       "3      0         86   ...            0                0         21.49   \n",
       "4      1         58   ...            0                0        640.80   \n",
       "\n",
       "   weaponsAcquired  winPoints  winPlacePerc  solo  duo  squad  custom  \n",
       "0                4       1458        0.8571     0    0      0       1  \n",
       "1                3       1511        0.0400     0    0      0       1  \n",
       "2                5       1583        0.7407     0    0      0       1  \n",
       "3                1       1489        0.1146     0    0      1       0  \n",
       "4                4       1475        0.5217     0    0      0       1  \n",
       "\n",
       "[5 rows x 30 columns]"
      ]
     },
     "execution_count": 10,
     "metadata": {},
     "output_type": "execute_result"
    }
   ],
   "source": [
    "solo = set(solo_matches)\n",
    "duo = set(duo_matches)\n",
    "squad = set(squad_matches)\n",
    "custom = set(custom_matches)\n",
    "\n",
    "def one_hot_game_mode(Id, solo, duo, squad, custom):\n",
    "    return int(Id in solo), int(Id in duo), int(Id in squad), int(Id in custom)\n",
    "\n",
    "dataset['solo'] = 0\n",
    "dataset['duo'] = 0\n",
    "dataset['squad'] = 0\n",
    "dataset['custom'] = 0\n",
    "dataset[['solo','duo','squad','custom']] = pd.DataFrame(elem for elem in dataset.matchId.apply(one_hot_game_mode,args=(solo,duo,squad,custom)))\n",
    "\n",
    "dataset.head()"
   ]
  },
  {
   "cell_type": "markdown",
   "metadata": {
    "_uuid": "e866b2497903e1eed5e1ad0050e4a77aa65899ea"
   },
   "source": [
    "**Feature Scaling**\n",
    "\n",
    "The scale of some of these values are very different and might lead to problems down the line with some machine learning algorithms so we perform min-max normalisation.\n",
    "\n",
    "This won't affect the performance of tree estimators like XGBoost or Random Forest but it is known to increase performance of gradient based machine learning methods. "
   ]
  },
  {
   "cell_type": "code",
   "execution_count": 11,
   "metadata": {
    "_uuid": "ec7c5996ea898667c5e3994cdf329612a7828996"
   },
   "outputs": [
    {
     "data": {
      "text/plain": [
       "<matplotlib.axes._subplots.AxesSubplot at 0x7ffa6226eb00>"
      ]
     },
     "execution_count": 11,
     "metadata": {},
     "output_type": "execute_result"
    },
    {
     "data": {
      "image/png": "[encoded data removed]",
      "text/plain": [
       "<Figure size 432x288 with 1 Axes>"
      ]
     },
     "metadata": {
      "needs_background": "light"
     },
     "output_type": "display_data"
    }
   ],
   "source": [
    "dataset.damageDealt.plot(kind='hist', logy=True)"
   ]
  },
  {
   "cell_type": "code",
   "execution_count": 38,
   "metadata": {
    "_uuid": "e2b22c25cdcb35405913c64b9c0670972d3be11d"
   },
   "outputs": [
    {
     "ename": "NameError",
     "evalue": "name 'train' is not defined",
     "output_type": "error",
     "traceback": [
      "\u001b[0;31m---------------------------------------------------------------------------\u001b[0m",
      "\u001b[0;31mNameError\u001b[0m                                 Traceback (most recent call last)",
      "\u001b[0;32m<ipython-input-38-550e113db0f0>\u001b[0m in \u001b[0;36m<module>\u001b[0;34m()\u001b[0m\n\u001b[1;32m      3\u001b[0m \u001b[0mtest_set\u001b[0m\u001b[0;34m[\u001b[0m\u001b[0mnorm_list\u001b[0m\u001b[0;34m]\u001b[0m \u001b[0;34m=\u001b[0m\u001b[0;34m(\u001b[0m\u001b[0mtest_set\u001b[0m\u001b[0;34m[\u001b[0m\u001b[0mnorm_list\u001b[0m\u001b[0;34m]\u001b[0m \u001b[0;34m-\u001b[0m \u001b[0mdataset\u001b[0m\u001b[0;34m[\u001b[0m\u001b[0mnorm_list\u001b[0m\u001b[0;34m]\u001b[0m\u001b[0;34m.\u001b[0m\u001b[0mmean\u001b[0m\u001b[0;34m(\u001b[0m\u001b[0;34m)\u001b[0m\u001b[0;34m)\u001b[0m\u001b[0;34m/\u001b[0m\u001b[0;34m(\u001b[0m\u001b[0mdataset\u001b[0m\u001b[0;34m[\u001b[0m\u001b[0mnorm_list\u001b[0m\u001b[0;34m]\u001b[0m\u001b[0;34m.\u001b[0m\u001b[0mmax\u001b[0m\u001b[0;34m(\u001b[0m\u001b[0;34m)\u001b[0m \u001b[0;34m-\u001b[0m \u001b[0mdataset\u001b[0m\u001b[0;34m[\u001b[0m\u001b[0mnorm_list\u001b[0m\u001b[0;34m]\u001b[0m\u001b[0;34m.\u001b[0m\u001b[0mmin\u001b[0m\u001b[0;34m(\u001b[0m\u001b[0;34m)\u001b[0m\u001b[0;34m)\u001b[0m\u001b[0;34m\u001b[0m\u001b[0m\n\u001b[1;32m      4\u001b[0m \u001b[0;31m#train.killPoints =(train.winPoints-train.winPoints.mean())/(train.winPoints.max() - train.winPoints.min())\u001b[0m\u001b[0;34m\u001b[0m\u001b[0;34m\u001b[0m\u001b[0m\n\u001b[0;32m----> 5\u001b[0;31m \u001b[0mtrain\u001b[0m\u001b[0;34m.\u001b[0m\u001b[0mwinPoints\u001b[0m\u001b[0;34m.\u001b[0m\u001b[0mplot\u001b[0m\u001b[0;34m(\u001b[0m\u001b[0mkind\u001b[0m\u001b[0;34m=\u001b[0m\u001b[0;34m'hist'\u001b[0m\u001b[0;34m,\u001b[0m \u001b[0mlogy\u001b[0m\u001b[0;34m=\u001b[0m\u001b[0;32mTrue\u001b[0m\u001b[0;34m)\u001b[0m\u001b[0;34m\u001b[0m\u001b[0m\n\u001b[0m\u001b[1;32m      6\u001b[0m \u001b[0mtrain\u001b[0m\u001b[0;34m.\u001b[0m\u001b[0mwalkDistance\u001b[0m\u001b[0;34m.\u001b[0m\u001b[0mplot\u001b[0m\u001b[0;34m(\u001b[0m\u001b[0mkind\u001b[0m\u001b[0;34m=\u001b[0m\u001b[0;34m'hist'\u001b[0m\u001b[0;34m,\u001b[0m \u001b[0mlogy\u001b[0m\u001b[0;34m=\u001b[0m\u001b[0;32mTrue\u001b[0m\u001b[0;34m)\u001b[0m\u001b[0;34m\u001b[0m\u001b[0m\n",
      "\u001b[0;31mNameError\u001b[0m: name 'train' is not defined"
     ]
    }
   ],
   "source": [
    "norm_list = [\"winPoints\",\"killPoints\",\"damageDealt\",\"rideDistance\",\"walkDistance\", \"swimDistance\", \"longestKill\"]\n",
    "dataset[norm_list] =(dataset[norm_list] - dataset[norm_list].mean())/(dataset[norm_list].max() - dataset[norm_list].min())\n",
    "test_set[norm_list] =(test_set[norm_list] - dataset[norm_list].mean())/(dataset[norm_list].max() - dataset[norm_list].min())\n",
    "#train.killPoints =(train.winPoints-train.winPoints.mean())/(train.winPoints.max() - train.winPoints.min())\n",
    "train.winPoints.plot(kind='hist', logy=True)\n",
    "train.walkDistance.plot(kind='hist', logy=True)"
   ]
  },
  {
   "cell_type": "markdown",
   "metadata": {
    "_uuid": "4121df344a54e9d1fe92abfa8c0d0e97bca8326a"
   },
   "source": [
    "**Correlation Matrix**\n",
    "\n",
    "The main correlators with success include:\n",
    "\n",
    "1. Walking distance\n",
    "2. Number of boosts\n",
    "3. Number of weapons acquired\n",
    "\n",
    "These all correlate with playtime as someone who plays for longer will end up walking more, getting more boosts (which increase life points over the cap) and acquiring more weapons.\n",
    "\n",
    "Interestingly winPoints doesn't  correlate strongly with actually winning "
   ]
  },
  {
   "cell_type": "code",
   "execution_count": 12,
   "metadata": {
    "_uuid": "af5d78c4e74a1e5b5c78270db1097cc4a0c4db69"
   },
   "outputs": [
    {
     "name": "stdout",
     "output_type": "stream",
     "text": [
      "Correlation with winPlacePerc\n"
     ]
    },
    {
     "data": {
      "text/plain": [
       "winPlacePerc       1.000000\n",
       "walkDistance       0.811857\n",
       "boosts             0.618075\n",
       "weaponsAcquired    0.571521\n",
       "damageDealt        0.438552\n",
       "heals              0.427986\n",
       "kills              0.415350\n",
       "longestKill        0.405800\n",
       "killStreaks        0.372546\n",
       "assists            0.304642\n",
       "rideDistance       0.301220\n",
       "DBNOs              0.279475\n",
       "headshotKills      0.278705\n",
       "revives            0.251399\n",
       "winPoints          0.170407\n",
       "swimDistance       0.154889\n",
       "killPoints         0.090293\n",
       "vehicleDestroys    0.057700\n",
       "squad              0.038586\n",
       "numGroups          0.035831\n",
       "maxPlace           0.034235\n",
       "roadKills          0.028879\n",
       "solo               0.009352\n",
       "duo                0.005102\n",
       "matchId            0.000423\n",
       "groupId           -0.000239\n",
       "teamKills         -0.006122\n",
       "Id                -0.018157\n",
       "custom            -0.040803\n",
       "killPlace         -0.708314\n",
       "Name: winPlacePerc, dtype: float64"
      ]
     },
     "execution_count": 12,
     "metadata": {},
     "output_type": "execute_result"
    }
   ],
   "source": [
    "print('Correlation with winPlacePerc')\n",
    "correlation_matrix = dataset.corr()\n",
    "correlation_matrix.winPlacePerc.sort_values(ascending=False)"
   ]
  },
  {
   "cell_type": "markdown",
   "metadata": {
    "_uuid": "1730fc235e1d91cfa6b6ee10087e737a1cee3fa7"
   },
   "source": [
    "**Data Augmentation**\n",
    "\n",
    "Another PUBG statistics dataset is available on Kaggle, let's see if we can obtain any useful insights.\n",
    "\n",
    "The data contained in the dataset is comprised of 150 diferent data points pertaining to the top-players at the time of collection. \n",
    "\n",
    "This might prove be an issue down the line as, in my experience, the average player isn't very good. So the data might be fundamentally different depending on the sample collected. \n",
    "\n",
    "\n",
    "Another possible concern is that the data contained was collected over a year ago. This, however, should prove a non-issue as anyone familiar with the game can testify all of the development efforts have gone into sketchy monetization and not gameplay, so the meta-game should still be pretty similar."
   ]
  },
  {
   "cell_type": "code",
   "execution_count": 13,
   "metadata": {
    "_uuid": "d52600220b85fbdd7bf8fb7449ccc4ea468543f9"
   },
   "outputs": [
    {
     "name": "stdout",
     "output_type": "stream",
     "text": [
      "['player_name' 'tracker_id' 'solo_KillDeathRatio' 'solo_WinRatio'\n",
      " 'solo_TimeSurvived' 'solo_RoundsPlayed' 'solo_Wins' 'solo_WinTop10Ratio'\n",
      " 'solo_Top10s' 'solo_Top10Ratio' 'solo_Losses' 'solo_Rating'\n",
      " 'solo_BestRating' 'solo_DamagePg' 'solo_HeadshotKillsPg' 'solo_HealsPg'\n",
      " 'solo_KillsPg' 'solo_MoveDistancePg' 'solo_RevivesPg' 'solo_RoadKillsPg'\n",
      " 'solo_TeamKillsPg' 'solo_TimeSurvivedPg' 'solo_Top10sPg' 'solo_Kills'\n",
      " 'solo_Assists' 'solo_Suicides' 'solo_TeamKills' 'solo_HeadshotKills'\n",
      " 'solo_HeadshotKillRatio' 'solo_VehicleDestroys' 'solo_RoadKills'\n",
      " 'solo_DailyKills' 'solo_WeeklyKills' 'solo_RoundMostKills'\n",
      " 'solo_MaxKillStreaks' 'solo_WeaponAcquired' 'solo_Days'\n",
      " 'solo_LongestTimeSurvived' 'solo_MostSurvivalTime' 'solo_AvgSurvivalTime'\n",
      " 'solo_WinPoints' 'solo_WalkDistance' 'solo_RideDistance'\n",
      " 'solo_MoveDistance' 'solo_AvgWalkDistance' 'solo_AvgRideDistance'\n",
      " 'solo_LongestKill' 'solo_Heals' 'solo_Revives' 'solo_Boosts'\n",
      " 'solo_DamageDealt' 'solo_DBNOs' 'duo_KillDeathRatio' 'duo_WinRatio'\n",
      " 'duo_TimeSurvived' 'duo_RoundsPlayed' 'duo_Wins' 'duo_WinTop10Ratio'\n",
      " 'duo_Top10s' 'duo_Top10Ratio' 'duo_Losses' 'duo_Rating' 'duo_BestRating'\n",
      " 'duo_DamagePg' 'duo_HeadshotKillsPg' 'duo_HealsPg' 'duo_KillsPg'\n",
      " 'duo_MoveDistancePg' 'duo_RevivesPg' 'duo_RoadKillsPg' 'duo_TeamKillsPg'\n",
      " 'duo_TimeSurvivedPg' 'duo_Top10sPg' 'duo_Kills' 'duo_Assists'\n",
      " 'duo_Suicides' 'duo_TeamKills' 'duo_HeadshotKills'\n",
      " 'duo_HeadshotKillRatio' 'duo_VehicleDestroys' 'duo_RoadKills'\n",
      " 'duo_DailyKills' 'duo_WeeklyKills' 'duo_RoundMostKills'\n",
      " 'duo_MaxKillStreaks' 'duo_WeaponAcquired' 'duo_Days'\n",
      " 'duo_LongestTimeSurvived' 'duo_MostSurvivalTime' 'duo_AvgSurvivalTime'\n",
      " 'duo_WinPoints' 'duo_WalkDistance' 'duo_RideDistance' 'duo_MoveDistance'\n",
      " 'duo_AvgWalkDistance' 'duo_AvgRideDistance' 'duo_LongestKill' 'duo_Heals'\n",
      " 'duo_Revives' 'duo_Boosts' 'duo_DamageDealt' 'duo_DBNOs'\n",
      " 'squad_KillDeathRatio' 'squad_WinRatio' 'squad_TimeSurvived'\n",
      " 'squad_RoundsPlayed' 'squad_Wins' 'squad_WinTop10Ratio' 'squad_Top10s'\n",
      " 'squad_Top10Ratio' 'squad_Losses' 'squad_Rating' 'squad_BestRating'\n",
      " 'squad_DamagePg' 'squad_HeadshotKillsPg' 'squad_HealsPg' 'squad_KillsPg'\n",
      " 'squad_MoveDistancePg' 'squad_RevivesPg' 'squad_RoadKillsPg'\n",
      " 'squad_TeamKillsPg' 'squad_TimeSurvivedPg' 'squad_Top10sPg' 'squad_Kills'\n",
      " 'squad_Assists' 'squad_Suicides' 'squad_TeamKills' 'squad_HeadshotKills'\n",
      " 'squad_HeadshotKillRatio' 'squad_VehicleDestroys' 'squad_RoadKills'\n",
      " 'squad_DailyKills' 'squad_WeeklyKills' 'squad_RoundMostKills'\n",
      " 'squad_MaxKillStreaks' 'squad_WeaponAcquired' 'squad_Days'\n",
      " 'squad_LongestTimeSurvived' 'squad_MostSurvivalTime'\n",
      " 'squad_AvgSurvivalTime' 'squad_WinPoints' 'squad_WalkDistance'\n",
      " 'squad_RideDistance' 'squad_MoveDistance' 'squad_AvgWalkDistance'\n",
      " 'squad_AvgRideDistance' 'squad_LongestKill' 'squad_Heals' 'squad_Revives'\n",
      " 'squad_Boosts' 'squad_DamageDealt' 'squad_DBNOs']\n"
     ]
    }
   ],
   "source": [
    "aug_dataset = pd.read_csv(\"./Data/PUBG_Player_Statistics/PUBG_Player_Statistics.csv\")\n",
    "print(str(aug_dataset.columns.values))"
   ]
  },
  {
   "cell_type": "markdown",
   "metadata": {
    "_uuid": "f036ca81f525a7a0a75ec9f78811fdf259b10da3"
   },
   "source": [
    "As we lack the convinient WinPlacePerc variable in our augmentation dataset what we will do is compare everything but that.\n",
    "\n",
    "The plan is that for every player we would be able to assign the closest player in the augmented dataset and hence have an increased number of data points. This may or may not be useful.\n",
    "\n",
    "First we need a way to convert our augmented data to look like our normal data.\n",
    "\n",
    "Example:\n",
    "\n",
    "Depending on our group size (Solo, Duo, Squad) we will look at diferent parts of the dataframe in order to make an apples to apples comparison. "
   ]
  },
  {
   "cell_type": "markdown",
   "metadata": {
    "_uuid": "8a1df73e114c0cfdf7a7047bdec67c1adf6e3c63"
   },
   "source": [
    "There are some big squads in this "
   ]
  },
  {
   "cell_type": "markdown",
   "metadata": {
    "_uuid": "6233134e018d02bf9e306e5b41495d5b14b55eb7"
   },
   "source": [
    "**XGBoost baseline**\n",
    "\n",
    "XGboosting is a resilient tree-bosting machine learning algorithm known for being robust in these type of datasets without needing of a lot of pre-processing."
   ]
  },
  {
   "cell_type": "code",
   "execution_count": 14,
   "metadata": {},
   "outputs": [
    {
     "data": {
      "text/html": [
       "<div>\n",
       "<style scoped>\n",
       "    .dataframe tbody tr th:only-of-type {\n",
       "        vertical-align: middle;\n",
       "    }\n",
       "\n",
       "    .dataframe tbody tr th {\n",
       "        vertical-align: top;\n",
       "    }\n",
       "\n",
       "    .dataframe thead th {\n",
       "        text-align: right;\n",
       "    }\n",
       "</style>\n",
       "<table border=\"1\" class=\"dataframe\">\n",
       "  <thead>\n",
       "    <tr style=\"text-align: right;\">\n",
       "      <th></th>\n",
       "      <th>Id</th>\n",
       "      <th>groupId</th>\n",
       "      <th>matchId</th>\n",
       "      <th>assists</th>\n",
       "      <th>boosts</th>\n",
       "      <th>damageDealt</th>\n",
       "      <th>DBNOs</th>\n",
       "      <th>headshotKills</th>\n",
       "      <th>heals</th>\n",
       "      <th>killPlace</th>\n",
       "      <th>...</th>\n",
       "      <th>teamKills</th>\n",
       "      <th>vehicleDestroys</th>\n",
       "      <th>walkDistance</th>\n",
       "      <th>weaponsAcquired</th>\n",
       "      <th>winPoints</th>\n",
       "      <th>winPlacePerc</th>\n",
       "      <th>solo</th>\n",
       "      <th>duo</th>\n",
       "      <th>squad</th>\n",
       "      <th>custom</th>\n",
       "    </tr>\n",
       "  </thead>\n",
       "  <tbody>\n",
       "    <tr>\n",
       "      <th>0</th>\n",
       "      <td>0</td>\n",
       "      <td>24</td>\n",
       "      <td>0</td>\n",
       "      <td>0</td>\n",
       "      <td>5</td>\n",
       "      <td>247.30</td>\n",
       "      <td>2</td>\n",
       "      <td>0</td>\n",
       "      <td>4</td>\n",
       "      <td>17</td>\n",
       "      <td>...</td>\n",
       "      <td>0</td>\n",
       "      <td>0</td>\n",
       "      <td>782.40</td>\n",
       "      <td>4</td>\n",
       "      <td>1458</td>\n",
       "      <td>0.8571</td>\n",
       "      <td>0</td>\n",
       "      <td>0</td>\n",
       "      <td>0</td>\n",
       "      <td>1</td>\n",
       "    </tr>\n",
       "    <tr>\n",
       "      <th>1</th>\n",
       "      <td>1</td>\n",
       "      <td>440875</td>\n",
       "      <td>1</td>\n",
       "      <td>1</td>\n",
       "      <td>0</td>\n",
       "      <td>37.65</td>\n",
       "      <td>1</td>\n",
       "      <td>1</td>\n",
       "      <td>0</td>\n",
       "      <td>45</td>\n",
       "      <td>...</td>\n",
       "      <td>0</td>\n",
       "      <td>0</td>\n",
       "      <td>119.60</td>\n",
       "      <td>3</td>\n",
       "      <td>1511</td>\n",
       "      <td>0.0400</td>\n",
       "      <td>0</td>\n",
       "      <td>0</td>\n",
       "      <td>0</td>\n",
       "      <td>1</td>\n",
       "    </tr>\n",
       "    <tr>\n",
       "      <th>2</th>\n",
       "      <td>2</td>\n",
       "      <td>878242</td>\n",
       "      <td>2</td>\n",
       "      <td>0</td>\n",
       "      <td>1</td>\n",
       "      <td>93.73</td>\n",
       "      <td>1</td>\n",
       "      <td>0</td>\n",
       "      <td>2</td>\n",
       "      <td>54</td>\n",
       "      <td>...</td>\n",
       "      <td>0</td>\n",
       "      <td>0</td>\n",
       "      <td>3248.00</td>\n",
       "      <td>5</td>\n",
       "      <td>1583</td>\n",
       "      <td>0.7407</td>\n",
       "      <td>0</td>\n",
       "      <td>0</td>\n",
       "      <td>0</td>\n",
       "      <td>1</td>\n",
       "    </tr>\n",
       "    <tr>\n",
       "      <th>3</th>\n",
       "      <td>3</td>\n",
       "      <td>1319841</td>\n",
       "      <td>3</td>\n",
       "      <td>0</td>\n",
       "      <td>0</td>\n",
       "      <td>95.88</td>\n",
       "      <td>0</td>\n",
       "      <td>0</td>\n",
       "      <td>0</td>\n",
       "      <td>86</td>\n",
       "      <td>...</td>\n",
       "      <td>0</td>\n",
       "      <td>0</td>\n",
       "      <td>21.49</td>\n",
       "      <td>1</td>\n",
       "      <td>1489</td>\n",
       "      <td>0.1146</td>\n",
       "      <td>0</td>\n",
       "      <td>0</td>\n",
       "      <td>1</td>\n",
       "      <td>0</td>\n",
       "    </tr>\n",
       "    <tr>\n",
       "      <th>4</th>\n",
       "      <td>4</td>\n",
       "      <td>1757883</td>\n",
       "      <td>4</td>\n",
       "      <td>0</td>\n",
       "      <td>1</td>\n",
       "      <td>0.00</td>\n",
       "      <td>0</td>\n",
       "      <td>0</td>\n",
       "      <td>1</td>\n",
       "      <td>58</td>\n",
       "      <td>...</td>\n",
       "      <td>0</td>\n",
       "      <td>0</td>\n",
       "      <td>640.80</td>\n",
       "      <td>4</td>\n",
       "      <td>1475</td>\n",
       "      <td>0.5217</td>\n",
       "      <td>0</td>\n",
       "      <td>0</td>\n",
       "      <td>0</td>\n",
       "      <td>1</td>\n",
       "    </tr>\n",
       "  </tbody>\n",
       "</table>\n",
       "<p>5 rows × 30 columns</p>\n",
       "</div>"
      ],
      "text/plain": [
       "   Id  groupId  matchId  assists  boosts  damageDealt  DBNOs  headshotKills  \\\n",
       "0   0       24        0        0       5       247.30      2              0   \n",
       "1   1   440875        1        1       0        37.65      1              1   \n",
       "2   2   878242        2        0       1        93.73      1              0   \n",
       "3   3  1319841        3        0       0        95.88      0              0   \n",
       "4   4  1757883        4        0       1         0.00      0              0   \n",
       "\n",
       "   heals  killPlace   ...    teamKills  vehicleDestroys  walkDistance  \\\n",
       "0      4         17   ...            0                0        782.40   \n",
       "1      0         45   ...            0                0        119.60   \n",
       "2      2         54   ...            0                0       3248.00   \n",
       "3      0         86   ...            0                0         21.49   \n",
       "4      1         58   ...            0                0        640.80   \n",
       "\n",
       "   weaponsAcquired  winPoints  winPlacePerc  solo  duo  squad  custom  \n",
       "0                4       1458        0.8571     0    0      0       1  \n",
       "1                3       1511        0.0400     0    0      0       1  \n",
       "2                5       1583        0.7407     0    0      0       1  \n",
       "3                1       1489        0.1146     0    0      1       0  \n",
       "4                4       1475        0.5217     0    0      0       1  \n",
       "\n",
       "[5 rows x 30 columns]"
      ]
     },
     "execution_count": 14,
     "metadata": {},
     "output_type": "execute_result"
    }
   ],
   "source": [
    "dataset.head()"
   ]
  },
  {
   "cell_type": "code",
   "execution_count": 15,
   "metadata": {
    "_uuid": "93a6b4a0998a566e7613a54535eab749735b32e2"
   },
   "outputs": [
    {
     "name": "stdout",
     "output_type": "stream",
     "text": [
      "0.9067381626650243\n",
      "0.0079777574099164\n"
     ]
    }
   ],
   "source": [
    "xgb = xgboost.XGBRegressor(n_estimators=100, learning_rate=0.08, gamma=0, subsample=0.75,\n",
    "                           colsample_bytree=1, max_depth=7, nthread=-1)\n",
    "\n",
    "dataset_labels = dataset.pop('winPlacePerc')\n",
    "dataset = dataset.drop(['Id','groupId','matchId'], axis=1)\n",
    "test_set = test_set.drop(['Id','groupId','matchId'], axis=1)\n",
    "X_train, X_test, y_train, y_test = train_test_split(dataset, dataset_labels ,test_size=0.2)\n",
    "#test = pd.read_csv(\"../input/test.csv\")\n",
    "\n",
    "xgb.fit(X_train,y_train, eval_metric='rmse', verbose=True)\n",
    "\n",
    "predictions = xgb.predict(X_test)\n",
    "print(explained_variance_score(predictions,y_test))\n",
    "print(mean_squared_error(predictions,y_test))\n"
   ]
  },
  {
   "cell_type": "code",
   "execution_count": 16,
   "metadata": {
    "_uuid": "5eb7af53e2354575b03260d15697e05244de595c"
   },
   "outputs": [
    {
     "ename": "ValueError",
     "evalue": "feature_names mismatch: ['assists', 'boosts', 'damageDealt', 'DBNOs', 'headshotKills', 'heals', 'killPlace', 'killPoints', 'kills', 'killStreaks', 'longestKill', 'maxPlace', 'numGroups', 'revives', 'rideDistance', 'roadKills', 'swimDistance', 'teamKills', 'vehicleDestroys', 'walkDistance', 'weaponsAcquired', 'winPoints', 'solo', 'duo', 'squad', 'custom'] ['assists', 'boosts', 'damageDealt', 'DBNOs', 'headshotKills', 'heals', 'killPlace', 'killPoints', 'kills', 'killStreaks', 'longestKill', 'maxPlace', 'numGroups', 'revives', 'rideDistance', 'roadKills', 'swimDistance', 'teamKills', 'vehicleDestroys', 'walkDistance', 'weaponsAcquired', 'winPoints']\nexpected custom, solo, squad, duo in input data",
     "output_type": "error",
     "traceback": [
      "\u001b[0;31m---------------------------------------------------------------------------\u001b[0m",
      "\u001b[0;31mValueError\u001b[0m                                Traceback (most recent call last)",
      "\u001b[0;32m<ipython-input-16-a8523abc9c7c>\u001b[0m in \u001b[0;36m<module>\u001b[0;34m()\u001b[0m\n\u001b[0;32m----> 1\u001b[0;31m \u001b[0mpred\u001b[0m \u001b[0;34m=\u001b[0m \u001b[0mxgb\u001b[0m\u001b[0;34m.\u001b[0m\u001b[0mpredict\u001b[0m\u001b[0;34m(\u001b[0m\u001b[0mtest_set\u001b[0m\u001b[0;34m)\u001b[0m\u001b[0;34m\u001b[0m\u001b[0m\n\u001b[0m\u001b[1;32m      2\u001b[0m \u001b[0mprint\u001b[0m\u001b[0;34m(\u001b[0m\u001b[0mpred\u001b[0m\u001b[0;34m)\u001b[0m\u001b[0;34m\u001b[0m\u001b[0m\n\u001b[1;32m      3\u001b[0m \u001b[0mtest\u001b[0m \u001b[0;34m=\u001b[0m \u001b[0mpd\u001b[0m\u001b[0;34m.\u001b[0m\u001b[0mread_csv\u001b[0m\u001b[0;34m(\u001b[0m\u001b[0;34m\"../input/sample_submission.csv\"\u001b[0m\u001b[0;34m)\u001b[0m\u001b[0;34m\u001b[0m\u001b[0m\n\u001b[1;32m      4\u001b[0m \u001b[0mtest\u001b[0m\u001b[0;34m[\u001b[0m\u001b[0;34m'winPlacePerc'\u001b[0m\u001b[0;34m]\u001b[0m \u001b[0;34m=\u001b[0m \u001b[0mpd\u001b[0m\u001b[0;34m.\u001b[0m\u001b[0mSeries\u001b[0m\u001b[0;34m(\u001b[0m\u001b[0mpred\u001b[0m\u001b[0;34m)\u001b[0m\u001b[0;34m\u001b[0m\u001b[0m\n\u001b[1;32m      5\u001b[0m \u001b[0mtest\u001b[0m\u001b[0;34m.\u001b[0m\u001b[0mto_csv\u001b[0m\u001b[0;34m(\u001b[0m\u001b[0;34m\"./submission.csv\"\u001b[0m\u001b[0;34m)\u001b[0m\u001b[0;34m\u001b[0m\u001b[0m\n",
      "\u001b[0;32m~/anaconda3/lib/python3.7/site-packages/xgboost/sklearn.py\u001b[0m in \u001b[0;36mpredict\u001b[0;34m(self, data, output_margin, ntree_limit)\u001b[0m\n\u001b[1;32m    345\u001b[0m         return self.get_booster().predict(test_dmatrix,\n\u001b[1;32m    346\u001b[0m                                           \u001b[0moutput_margin\u001b[0m\u001b[0;34m=\u001b[0m\u001b[0moutput_margin\u001b[0m\u001b[0;34m,\u001b[0m\u001b[0;34m\u001b[0m\u001b[0m\n\u001b[0;32m--> 347\u001b[0;31m                                           ntree_limit=ntree_limit)\n\u001b[0m\u001b[1;32m    348\u001b[0m \u001b[0;34m\u001b[0m\u001b[0m\n\u001b[1;32m    349\u001b[0m     \u001b[0;32mdef\u001b[0m \u001b[0mapply\u001b[0m\u001b[0;34m(\u001b[0m\u001b[0mself\u001b[0m\u001b[0;34m,\u001b[0m \u001b[0mX\u001b[0m\u001b[0;34m,\u001b[0m \u001b[0mntree_limit\u001b[0m\u001b[0;34m=\u001b[0m\u001b[0;36m0\u001b[0m\u001b[0;34m)\u001b[0m\u001b[0;34m:\u001b[0m\u001b[0;34m\u001b[0m\u001b[0m\n",
      "\u001b[0;32m~/anaconda3/lib/python3.7/site-packages/xgboost/core.py\u001b[0m in \u001b[0;36mpredict\u001b[0;34m(self, data, output_margin, ntree_limit, pred_leaf, pred_contribs, approx_contribs, pred_interactions, validate_features)\u001b[0m\n\u001b[1;32m   1192\u001b[0m \u001b[0;34m\u001b[0m\u001b[0m\n\u001b[1;32m   1193\u001b[0m         \u001b[0;32mif\u001b[0m \u001b[0mvalidate_features\u001b[0m\u001b[0;34m:\u001b[0m\u001b[0;34m\u001b[0m\u001b[0m\n\u001b[0;32m-> 1194\u001b[0;31m             \u001b[0mself\u001b[0m\u001b[0;34m.\u001b[0m\u001b[0m_validate_features\u001b[0m\u001b[0;34m(\u001b[0m\u001b[0mdata\u001b[0m\u001b[0;34m)\u001b[0m\u001b[0;34m\u001b[0m\u001b[0m\n\u001b[0m\u001b[1;32m   1195\u001b[0m \u001b[0;34m\u001b[0m\u001b[0m\n\u001b[1;32m   1196\u001b[0m         \u001b[0mlength\u001b[0m \u001b[0;34m=\u001b[0m \u001b[0mc_bst_ulong\u001b[0m\u001b[0;34m(\u001b[0m\u001b[0;34m)\u001b[0m\u001b[0;34m\u001b[0m\u001b[0m\n",
      "\u001b[0;32m~/anaconda3/lib/python3.7/site-packages/xgboost/core.py\u001b[0m in \u001b[0;36m_validate_features\u001b[0;34m(self, data)\u001b[0m\n\u001b[1;32m   1475\u001b[0m \u001b[0;34m\u001b[0m\u001b[0m\n\u001b[1;32m   1476\u001b[0m                 raise ValueError(msg.format(self.feature_names,\n\u001b[0;32m-> 1477\u001b[0;31m                                             data.feature_names))\n\u001b[0m\u001b[1;32m   1478\u001b[0m \u001b[0;34m\u001b[0m\u001b[0m\n\u001b[1;32m   1479\u001b[0m     \u001b[0;32mdef\u001b[0m \u001b[0mget_split_value_histogram\u001b[0m\u001b[0;34m(\u001b[0m\u001b[0mself\u001b[0m\u001b[0;34m,\u001b[0m \u001b[0mfeature\u001b[0m\u001b[0;34m,\u001b[0m \u001b[0mfmap\u001b[0m\u001b[0;34m=\u001b[0m\u001b[0;34m''\u001b[0m\u001b[0;34m,\u001b[0m \u001b[0mbins\u001b[0m\u001b[0;34m=\u001b[0m\u001b[0;32mNone\u001b[0m\u001b[0;34m,\u001b[0m \u001b[0mas_pandas\u001b[0m\u001b[0;34m=\u001b[0m\u001b[0;32mTrue\u001b[0m\u001b[0;34m)\u001b[0m\u001b[0;34m:\u001b[0m\u001b[0;34m\u001b[0m\u001b[0m\n",
      "\u001b[0;31mValueError\u001b[0m: feature_names mismatch: ['assists', 'boosts', 'damageDealt', 'DBNOs', 'headshotKills', 'heals', 'killPlace', 'killPoints', 'kills', 'killStreaks', 'longestKill', 'maxPlace', 'numGroups', 'revives', 'rideDistance', 'roadKills', 'swimDistance', 'teamKills', 'vehicleDestroys', 'walkDistance', 'weaponsAcquired', 'winPoints', 'solo', 'duo', 'squad', 'custom'] ['assists', 'boosts', 'damageDealt', 'DBNOs', 'headshotKills', 'heals', 'killPlace', 'killPoints', 'kills', 'killStreaks', 'longestKill', 'maxPlace', 'numGroups', 'revives', 'rideDistance', 'roadKills', 'swimDistance', 'teamKills', 'vehicleDestroys', 'walkDistance', 'weaponsAcquired', 'winPoints']\nexpected custom, solo, squad, duo in input data"
     ]
    }
   ],
   "source": [
    "pred = xgb.predict(test_set)\n",
    "print(pred)\n",
    "test = pd.read_csv(\"../input/sample_submission.csv\")\n",
    "test['winPlacePerc'] = pd.Series(pred)\n",
    "test.to_csv(\"./submission.csv\")"
   ]
  },
  {
   "cell_type": "markdown",
   "metadata": {
    "_uuid": "a90c4b42fa13f1d2eafc45af0396d9bd4de52789"
   },
   "source": [
    "\n",
    "\n",
    "Now we know which matches belong to which game modes we will split the model in three and evaluate its performance.\n",
    "\n"
   ]
  }
 ],
 "metadata": {
  "kernelspec": {
   "display_name": "Python (xgboost)",
   "language": "python",
   "name": "pubg"
  },
  "language_info": {
   "codemirror_mode": {
    "name": "ipython",
    "version": 3
   },
   "file_extension": ".py",
   "mimetype": "text/x-python",
   "name": "python",
   "nbconvert_exporter": "python",
   "pygments_lexer": "ipython3",
   "version": "3.7.0"
  }
 },
 "nbformat": 4,
 "nbformat_minor": 1
}
